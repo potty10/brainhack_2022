{
 "cells": [
  {
   "cell_type": "code",
   "execution_count": 1,
   "metadata": {
    "colab": {
     "base_uri": "https://localhost:8080/"
    },
    "id": "ESMH9jKncmSM",
    "outputId": "302d4cc6-54b3-4cc8-f82e-5d4ae1719f29"
   },
   "outputs": [],
   "source": [
    "import librosa\n",
    "import librosa.display\n",
    "import IPython.display as ipd\n",
    "from IPython.core.display import display\n",
    "import matplotlib.pyplot as plt\n",
    "import seaborn as sb\n",
    "import numpy as np\n",
    "import pandas as pd\n",
    "import os\n",
    "\n",
    "# Mount google drive and confirm mount to access data set\n",
    "# from google.colab import drive\n",
    "# drive.mount('/content/drive')\n",
    "# print(os.listdir(os.getcwd()))"
   ]
  },
  {
   "cell_type": "markdown",
   "metadata": {},
   "source": [
    "# Visualise data"
   ]
  },
  {
   "cell_type": "code",
   "execution_count": 2,
   "metadata": {
    "colab": {
     "base_uri": "https://localhost:8080/",
     "height": 363
    },
    "id": "oSlPg8AnczLw",
    "outputId": "1ab82a4f-219b-4da8-e575-786e5af43fda"
   },
   "outputs": [
    {
     "data": {
      "text/html": [
       "<div>\n",
       "<style scoped>\n",
       "    .dataframe tbody tr th:only-of-type {\n",
       "        vertical-align: middle;\n",
       "    }\n",
       "\n",
       "    .dataframe tbody tr th {\n",
       "        vertical-align: top;\n",
       "    }\n",
       "\n",
       "    .dataframe thead th {\n",
       "        text-align: right;\n",
       "    }\n",
       "</style>\n",
       "<table border=\"1\" class=\"dataframe\">\n",
       "  <thead>\n",
       "    <tr style=\"text-align: right;\">\n",
       "      <th></th>\n",
       "      <th>FileName</th>\n",
       "      <th>Emotion</th>\n",
       "    </tr>\n",
       "  </thead>\n",
       "  <tbody>\n",
       "    <tr>\n",
       "      <th>0</th>\n",
       "      <td>00137a41c0.wav</td>\n",
       "      <td>angry</td>\n",
       "    </tr>\n",
       "    <tr>\n",
       "      <th>1</th>\n",
       "      <td>0013d115a0.wav</td>\n",
       "      <td>angry</td>\n",
       "    </tr>\n",
       "    <tr>\n",
       "      <th>2</th>\n",
       "      <td>005caa3fd8.wav</td>\n",
       "      <td>angry</td>\n",
       "    </tr>\n",
       "    <tr>\n",
       "      <th>3</th>\n",
       "      <td>00f5ccb1da.wav</td>\n",
       "      <td>angry</td>\n",
       "    </tr>\n",
       "    <tr>\n",
       "      <th>4</th>\n",
       "      <td>0111da0f76.wav</td>\n",
       "      <td>angry</td>\n",
       "    </tr>\n",
       "    <tr>\n",
       "      <th>5</th>\n",
       "      <td>0127445bbf.wav</td>\n",
       "      <td>angry</td>\n",
       "    </tr>\n",
       "    <tr>\n",
       "      <th>6</th>\n",
       "      <td>01a9917c79.wav</td>\n",
       "      <td>angry</td>\n",
       "    </tr>\n",
       "    <tr>\n",
       "      <th>7</th>\n",
       "      <td>01bfcfd174.wav</td>\n",
       "      <td>angry</td>\n",
       "    </tr>\n",
       "    <tr>\n",
       "      <th>8</th>\n",
       "      <td>02a0bc9e97.wav</td>\n",
       "      <td>angry</td>\n",
       "    </tr>\n",
       "    <tr>\n",
       "      <th>9</th>\n",
       "      <td>02dda0e11d.wav</td>\n",
       "      <td>angry</td>\n",
       "    </tr>\n",
       "  </tbody>\n",
       "</table>\n",
       "</div>"
      ],
      "text/plain": [
       "         FileName Emotion\n",
       "0  00137a41c0.wav   angry\n",
       "1  0013d115a0.wav   angry\n",
       "2  005caa3fd8.wav   angry\n",
       "3  00f5ccb1da.wav   angry\n",
       "4  0111da0f76.wav   angry\n",
       "5  0127445bbf.wav   angry\n",
       "6  01a9917c79.wav   angry\n",
       "7  01bfcfd174.wav   angry\n",
       "8  02a0bc9e97.wav   angry\n",
       "9  02dda0e11d.wav   angry"
      ]
     },
     "execution_count": 2,
     "metadata": {},
     "output_type": "execute_result"
    }
   ],
   "source": [
    "# List of file name with corresponding emotions\n",
    "train_path = \"NLP Training Dataset - Copy/ASR Training Dataset\"\n",
    "file_emotion = []\n",
    "file_name = []\n",
    "emotion_list = ['angry', 'fear', 'happy', 'neutral', 'sad']\n",
    "\n",
    "for dir in emotion_list:\n",
    "  audio_file = os.listdir(train_path + '/' + dir)\n",
    "  for file in audio_file:\n",
    "    file_emotion.append(dir)\n",
    "    file_name.append(file)\n",
    "\n",
    "# dataframe for file name\n",
    "name_df = pd.DataFrame(file_name, columns=['FileName'])\n",
    "\n",
    "# dataframe for file emotion\n",
    "emotion_df = pd.DataFrame(file_emotion, columns=['Emotion'])\n",
    "train_df = pd.concat([name_df, emotion_df], axis=1)\n",
    "\n",
    "train_df.head(10)"
   ]
  },
  {
   "cell_type": "code",
   "execution_count": 3,
   "metadata": {
    "colab": {
     "base_uri": "https://localhost:8080/",
     "height": 355
    },
    "id": "Uu_37TF-zThu",
    "outputId": "5ce88ba6-a786-4876-c8a2-bf1ace331731"
   },
   "outputs": [
    {
     "name": "stderr",
     "output_type": "stream",
     "text": [
      "C:\\Users\\chris\\anaconda3\\envs\\noteVenv\\lib\\site-packages\\seaborn\\_decorators.py:36: FutureWarning: Pass the following variable as a keyword arg: x. From version 0.12, the only valid positional argument will be `data`, and passing other arguments without an explicit keyword will result in an error or misinterpretation.\n",
      "  warnings.warn(\n"
     ]
    },
    {
     "data": {
      "image/png": "[encoded data removed]",
      "text/plain": [
       "<Figure size 640x480 with 1 Axes>"
      ]
     },
     "metadata": {},
     "output_type": "display_data"
    }
   ],
   "source": [
    "plt.title('Count of Emotions', size=16)\n",
    "sb.countplot(train_df.Emotion)\n",
    "plt.ylabel('Count', size=12)\n",
    "plt.xlabel('Emotions', size=12)\n",
    "sb.despine(top=True, right=True, left=False, bottom=False)\n",
    "plt.show()"
   ]
  },
  {
   "cell_type": "markdown",
   "metadata": {
    "id": "bP_gUHYI7xaa"
   },
   "source": [
    "# Visualise sound\n",
    "\n",
    "We will be using only MFCCs as features. At each time t, a vector of MFCC is produced."
   ]
  },
  {
   "cell_type": "code",
   "execution_count": 4,
   "metadata": {
    "id": "Ue2EJi4Z44Hc"
   },
   "outputs": [],
   "source": [
    "def create_waveplot(data, sr, e):\n",
    "    plt.figure(figsize=(10, 3))\n",
    "    plt.title('Waveplot for audio with {} emotion'.format(e), size=15)\n",
    "    librosa.display.waveshow(data, sr=sr)\n",
    "    plt.show()\n",
    "\n",
    "def create_spectrogram(data, sr, e):\n",
    "    # stft function converts the data into short term fourier transform\n",
    "    X = librosa.stft(data)\n",
    "    Xdb = librosa.amplitude_to_db(abs(X))\n",
    "    plt.figure(figsize=(12, 3))\n",
    "    plt.title('Spectrogram for audio with {} emotion'.format(e), size=15)\n",
    "    librosa.display.specshow(Xdb, sr=sr, x_axis='time', y_axis='hz')   \n",
    "    #librosa.display.specshow(Xdb, sr=sr, x_axis='time', y_axis='log')\n",
    "    plt.colorbar()\n",
    "\n",
    "def create_MFCC(data, sr, e):\n",
    "    # https://medium.com/prathena/the-dummys-guide-to-mfcc-aceab2450fd\n",
    "    hop_length = 512 # in num. of samples\n",
    "    n_fft = 2048 # window in num. of samples\n",
    "    MFCCs = librosa.feature.mfcc(data, sr, n_fft=n_fft, hop_length=hop_length, n_mfcc=13)  \n",
    "    plt.figure(figsize=(5,3))\n",
    "    librosa.display.specshow(MFCCs, sr=sr, hop_length=hop_length)\n",
    "    plt.xlabel(\"Time\")\n",
    "    plt.ylabel(\"MFCC coefficients\")\n",
    "    plt.colorbar()\n",
    "    plt.title(\"MFCCs\")\n",
    "    plt.show()\n",
    "\n",
    "def plot_emotion(emotion):\n",
    "  path = np.array(train_df.FileName[train_df.Emotion==emotion])[1]\n",
    "  file_path = train_path + '/' + emotion + '/' + path\n",
    "  data, sampling_rate = librosa.load(file_path)\n",
    "  print(data)\n",
    "  create_waveplot(data, sampling_rate, emotion)\n",
    "  create_spectrogram(data, sampling_rate, emotion)\n",
    "  create_MFCC(data, sampling_rate, emotion)\n",
    "  # display(ipd.Audio(file_path))"
   ]
  },
  {
   "cell_type": "code",
   "execution_count": 5,
   "metadata": {
    "colab": {
     "base_uri": "https://localhost:8080/",
     "height": 1000
    },
    "id": "_XR_G1OB44Nr",
    "outputId": "59e70798-dc9a-44f4-9289-15ef2b561ac0"
   },
   "outputs": [],
   "source": [
    "# plot_emotion('angry')\n",
    "# plot_emotion('sad')\n",
    "# plot_emotion('neutral')\n",
    "# plot_emotion('happy')\n",
    "# plot_emotion('fear')"
   ]
  },
  {
   "cell_type": "markdown",
   "metadata": {
    "id": "OI27mtyITZ5l"
   },
   "source": [
    "# Data Augmentation functions\n",
    "\n",
    "Functions to augment the data even further to increase samples in training set. But I did not use them in the end."
   ]
  },
  {
   "cell_type": "code",
   "execution_count": 6,
   "metadata": {
    "id": "Gn9aWyM_c4Px"
   },
   "outputs": [],
   "source": [
    "# Data Augmentation\n",
    "def noise(data):\n",
    "    noise_amp = 0.035*np.random.uniform()*np.amax(data)\n",
    "    data = data + noise_amp*np.random.normal(size=data.shape[0])\n",
    "    return data\n",
    "\n",
    "def stretch(data, rate=0.8):\n",
    "    return librosa.effects.time_stretch(data, rate)\n",
    "\n",
    "def shift(data):\n",
    "    shift_range = int(np.random.uniform(low=-5, high = 5)*1000)\n",
    "    return np.roll(data, shift_range)\n",
    "\n",
    "def pitch(data, sampling_rate, pitch_factor=0.7):\n",
    "    return librosa.effects.pitch_shift(data, sampling_rate, pitch_factor)\n",
    "\n",
    "# taking any example and checking for techniques.\n",
    "path = np.array(train_df.FileName)[2]\n",
    "emotion = np.array(train_df.Emotion)[2]\n",
    "file_path = train_path + '/' + emotion + '/' + path\n",
    "data, sample_rate = librosa.load(file_path)"
   ]
  },
  {
   "cell_type": "markdown",
   "metadata": {
    "id": "MUavJWojTejm"
   },
   "source": [
    "# Feature extraction\n",
    "\n",
    "At each time t, a vector of length 20 is produced. Therefore, for each sample, we have a 2D matrix. Each sample has different durations, so the matrix has the dimensions 20 x t. We need to make sure that each feature has the same dimensions though padding or truncating."
   ]
  },
  {
   "cell_type": "code",
   "execution_count": 7,
   "metadata": {
    "id": "wjyqoVqNdAnq"
   },
   "outputs": [
    {
     "name": "stderr",
     "output_type": "stream",
     "text": [
      "<ipython-input-7-d132b29191a1>:22: FutureWarning: Pass y=[ 5.2801366e-03  8.8961525e-03 -1.2338054e-02 ... -1.3834969e-04\n",
      "  5.0726740e-05  0.0000000e+00], sr=22050 as keyword args. From version 0.10 passing these as positional arguments will result in an error\n",
      "  res = np.array(librosa.feature.mfcc(data, sample_rate, n_fft=2048, hop_length=512, n_mfcc=20))\n"
     ]
    },
    {
     "data": {
      "text/plain": [
       "array([[-436.96808  , -397.47668  , -384.9894   , ...,    0.       ,\n",
       "           0.       ,    0.       ],\n",
       "       [ -44.27086  ,  -29.461834 ,  -21.909538 , ...,    0.       ,\n",
       "           0.       ,    0.       ],\n",
       "       [ -14.210609 ,  -26.623672 ,  -28.922256 , ...,    0.       ,\n",
       "           0.       ,    0.       ],\n",
       "       ...,\n",
       "       [  -5.660564 ,   -4.492699 ,   -4.9162445, ...,    0.       ,\n",
       "           0.       ,    0.       ],\n",
       "       [   3.7566426,    6.737926 ,    8.921848 , ...,    0.       ,\n",
       "           0.       ,    0.       ],\n",
       "       [   3.6303997,    2.840691 ,    3.1726763, ...,    0.       ,\n",
       "           0.       ,    0.       ]], dtype=float32)"
      ]
     },
     "execution_count": 7,
     "metadata": {},
     "output_type": "execute_result"
    }
   ],
   "source": [
    "def pad_or_cut(matrix, desired_height, desired_width):\n",
    "    h = matrix.shape[0]\n",
    "    w = matrix.shape[1]\n",
    "    if h <= desired_height:\n",
    "        matrix = np.pad(matrix, pad_width=((0, desired_height - h)), mode='constant')\n",
    "    else:\n",
    "        matrix = matrix[:desired_height, :]\n",
    "    if w <= desired_width:\n",
    "        matrix = np.pad(matrix, pad_width=((0, 0), (0, desired_width - w)), mode='constant')\n",
    "    else:\n",
    "        matrix = matrix[:, :desired_width]\n",
    "\n",
    "    return matrix\n",
    "\n",
    "# Test pad_or_cut\n",
    "temp_mat = np.arange(24).reshape((4, 6))\n",
    "assert pad_or_cut(temp_mat, 5, 5).shape == (5,5)\n",
    "\n",
    "def get_features(path):\n",
    "    # duration and offset are used to take care of the no audio in start and the ending of each audio files as seen above.\n",
    "    data, sample_rate = librosa.load(path, offset=0.1)\n",
    "    res = np.array(librosa.feature.mfcc(data, sample_rate, n_fft=2048, hop_length=512, n_mfcc=20))    \n",
    "    return pad_or_cut(res, 20, 120)\n",
    "       \n",
    "def get_features_with_augmentation(path):\n",
    "    data, sample_rate = librosa.load(path, duration=2.5, offset=0.1)\n",
    "    noise_data = noise(data)   \n",
    "    new_data = stretch(data)\n",
    "    data_stretch_pitch = pitch(new_data, sample_rate)\n",
    "    res = np.array(librosa.feature.mfcc(data_stretch_pitch, sample_rate, n_fft=2048, hop_length=512, n_mfcc=128))\n",
    "    return pad_or_cut(res, 128, 120)\n",
    "\n",
    "# Test whether get_features return the correct shape\n",
    "file_path = train_path +'/angry/00f5ccb1da.wav'\n",
    "get_features(file_path)"
   ]
  },
  {
   "cell_type": "code",
   "execution_count": null,
   "metadata": {
    "colab": {
     "base_uri": "https://localhost:8080/"
    },
    "id": "V6CqvQL_d5fQ",
    "outputId": "513525d9-664e-49bd-e42e-5e2ac3dbf8c5",
    "scrolled": true
   },
   "outputs": [],
   "source": [
    "from tqdm import tqdm\n",
    "X, y = [],[]\n",
    "\n",
    "for path, emotion in tqdm(zip(train_df.FileName, train_df.Emotion), total=len(train_df.FileName)):\n",
    "    file_path = train_path + '/' + emotion + '/' + path\n",
    "    feature = get_features(file_path)\n",
    "    X.append(feature)\n",
    "    y.append(emotion)\n",
    "\n",
    "X = np.array(X)\n",
    "y = np.array(y)\n"
   ]
  },
  {
   "cell_type": "markdown",
   "metadata": {},
   "source": [
    "# Scale data\n",
    "\n",
    "Normalisation doesnt work because the scalar values would be too similar. I scaled the data by a factor of 0.01."
   ]
  },
  {
   "cell_type": "code",
   "execution_count": 9,
   "metadata": {},
   "outputs": [],
   "source": [
    "#X = np.array((X-np.min(X))/(np.max(X)-np.min(X)))\n",
    "X = X/100"
   ]
  },
  {
   "cell_type": "markdown",
   "metadata": {},
   "source": [
    "# Encode label"
   ]
  },
  {
   "cell_type": "code",
   "execution_count": 10,
   "metadata": {},
   "outputs": [],
   "source": [
    "from sklearn.preprocessing import OneHotEncoder\n",
    "encoder = OneHotEncoder()\n",
    "y = encoder.fit_transform(y.reshape(-1,1)).toarray()"
   ]
  },
  {
   "cell_type": "code",
   "execution_count": 11,
   "metadata": {
    "id": "6Ym_zUk7lEnd"
   },
   "outputs": [],
   "source": [
    "from sklearn.metrics import confusion_matrix, classification_report\n",
    "from sklearn.model_selection import train_test_split\n",
    "import warnings\n",
    "if not os.sys.warnoptions:\n",
    "    warnings.simplefilter(\"ignore\")\n",
    "warnings.filterwarnings(\"ignore\", category=DeprecationWarning) "
   ]
  },
  {
   "cell_type": "markdown",
   "metadata": {},
   "source": [
    "# Train test split"
   ]
  },
  {
   "cell_type": "code",
   "execution_count": 12,
   "metadata": {
    "colab": {
     "base_uri": "https://localhost:8080/"
    },
    "id": "7O7ockO_sjDw",
    "outputId": "5586385d-069e-404c-c91d-c9753ed9a071"
   },
   "outputs": [
    {
     "data": {
      "text/plain": [
       "((1968, 20, 120), (875, 20, 120), (657, 20, 120), 1968, 875, 657)"
      ]
     },
     "execution_count": 12,
     "metadata": {},
     "output_type": "execute_result"
    }
   ],
   "source": [
    "#Split twice to get the validation set\n",
    "X_train, X_test, y_train, y_test = train_test_split(X, y, test_size=0.25, random_state=123, stratify=y)\n",
    "X_train, X_val, y_train, y_val = train_test_split(X_train, y_train, test_size=0.25, random_state=123)\n",
    "#Print the shapes\n",
    "X_train.shape, X_test.shape, X_val.shape, len(y_train), len(y_test), len(y_val)"
   ]
  },
  {
   "cell_type": "markdown",
   "metadata": {
    "id": "sv-cFhPOTnGy"
   },
   "source": [
    "# RNN model\n",
    "\n",
    "We decided to use an RNN model with LSTM."
   ]
  },
  {
   "cell_type": "code",
   "execution_count": 13,
   "metadata": {
    "id": "kqUn6PhcS_Xq"
   },
   "outputs": [
    {
     "name": "stdout",
     "output_type": "stream",
     "text": [
      "Model: \"sequential\"\n",
      "_________________________________________________________________\n",
      " Layer (type)                Output Shape              Param #   \n",
      "=================================================================\n",
      " lstm (LSTM)                 (None, 128)               127488    \n",
      "                                                                 \n",
      " dropout (Dropout)           (None, 128)               0         \n",
      "                                                                 \n",
      " dense (Dense)               (None, 128)               16512     \n",
      "                                                                 \n",
      " dense_1 (Dense)             (None, 64)                8256      \n",
      "                                                                 \n",
      " dropout_1 (Dropout)         (None, 64)                0         \n",
      "                                                                 \n",
      " dense_2 (Dense)             (None, 48)                3120      \n",
      "                                                                 \n",
      " dropout_2 (Dropout)         (None, 48)                0         \n",
      "                                                                 \n",
      " dense_3 (Dense)             (None, 5)                 245       \n",
      "                                                                 \n",
      "=================================================================\n",
      "Total params: 155,621\n",
      "Trainable params: 155,621\n",
      "Non-trainable params: 0\n",
      "_________________________________________________________________\n"
     ]
    }
   ],
   "source": [
    "import numpy as np\n",
    "import tensorflow as tf\n",
    "from tensorflow import keras\n",
    "from tensorflow.keras import layers\n",
    "from keras.layers import LSTM, Dropout, Dense\n",
    "\n",
    "input_shape=(20,120)\n",
    "model = keras.Sequential()\n",
    "model.add(LSTM(128,input_shape=input_shape))\n",
    "model.add(Dropout(0.2))\n",
    "model.add(Dense(128, activation='relu'))\n",
    "model.add(Dense(64, activation='relu'))\n",
    "model.add(Dropout(0.4))\n",
    "model.add(Dense(48, activation='relu'))\n",
    "model.add(Dropout(0.4))\n",
    "model.add(Dense(5, activation='softmax'))\n",
    "model.summary()\n",
    "\n",
    "model.compile(optimizer='adam',loss='categorical_crossentropy',metrics=['acc'])"
   ]
  },
  {
   "cell_type": "markdown",
   "metadata": {
    "id": "Mqkd-lMIT-v0"
   },
   "source": [
    "# Fit data\n",
    "\n",
    "We used ReduceLROnPlateau() to reduce overfitting."
   ]
  },
  {
   "cell_type": "code",
   "execution_count": 14,
   "metadata": {
    "colab": {
     "base_uri": "https://localhost:8080/"
    },
    "id": "b107w0NNsrCc",
    "outputId": "f7f3fa6a-8f38-4fe6-8941-bd281c798132"
   },
   "outputs": [
    {
     "name": "stdout",
     "output_type": "stream",
     "text": [
      "Epoch 1/40\n",
      "31/31 [==============================] - 3s 41ms/step - loss: 1.5911 - acc: 0.2612 - val_loss: 1.4801 - val_acc: 0.3409 - lr: 0.0010\n",
      "Epoch 2/40\n",
      "31/31 [==============================] - 1s 27ms/step - loss: 1.4217 - acc: 0.3704 - val_loss: 1.2657 - val_acc: 0.4703 - lr: 0.0010\n",
      "Epoch 3/40\n",
      "31/31 [==============================] - 1s 23ms/step - loss: 1.3159 - acc: 0.4400 - val_loss: 1.1733 - val_acc: 0.4977 - lr: 0.0010\n",
      "Epoch 4/40\n",
      "31/31 [==============================] - 1s 20ms/step - loss: 1.2306 - acc: 0.4797 - val_loss: 1.1587 - val_acc: 0.5145 - lr: 0.0010\n",
      "Epoch 5/40\n",
      "31/31 [==============================] - 1s 20ms/step - loss: 1.1805 - acc: 0.5051 - val_loss: 1.1089 - val_acc: 0.5479 - lr: 0.0010\n",
      "Epoch 6/40\n",
      "31/31 [==============================] - 1s 21ms/step - loss: 1.1220 - acc: 0.5427 - val_loss: 1.0727 - val_acc: 0.5723 - lr: 0.0010\n",
      "Epoch 7/40\n",
      "31/31 [==============================] - 1s 20ms/step - loss: 1.0596 - acc: 0.5879 - val_loss: 1.0344 - val_acc: 0.5845 - lr: 0.0010\n",
      "Epoch 8/40\n",
      "31/31 [==============================] - 1s 20ms/step - loss: 1.0068 - acc: 0.6087 - val_loss: 1.0253 - val_acc: 0.6012 - lr: 0.0010\n",
      "Epoch 9/40\n",
      "31/31 [==============================] - 1s 20ms/step - loss: 0.9872 - acc: 0.6189 - val_loss: 0.9835 - val_acc: 0.6149 - lr: 0.0010\n",
      "Epoch 10/40\n",
      "31/31 [==============================] - 1s 21ms/step - loss: 0.9479 - acc: 0.6296 - val_loss: 1.0003 - val_acc: 0.6073 - lr: 0.0010\n",
      "Epoch 11/40\n",
      "31/31 [==============================] - 1s 21ms/step - loss: 0.9162 - acc: 0.6555 - val_loss: 0.9935 - val_acc: 0.5936 - lr: 0.0010\n",
      "Epoch 12/40\n",
      "31/31 [==============================] - 1s 21ms/step - loss: 0.8742 - acc: 0.6748 - val_loss: 0.9650 - val_acc: 0.6180 - lr: 0.0010\n",
      "Epoch 13/40\n",
      "31/31 [==============================] - 1s 21ms/step - loss: 0.8362 - acc: 0.6905 - val_loss: 0.9651 - val_acc: 0.6393 - lr: 0.0010\n",
      "Epoch 14/40\n",
      "31/31 [==============================] - 1s 22ms/step - loss: 0.7951 - acc: 0.6992 - val_loss: 1.0897 - val_acc: 0.6423 - lr: 0.0010\n",
      "Epoch 15/40\n",
      "31/31 [==============================] - 1s 21ms/step - loss: 0.7590 - acc: 0.7170 - val_loss: 1.0301 - val_acc: 0.6393 - lr: 0.0010\n",
      "Epoch 16/40\n",
      "31/31 [==============================] - 1s 21ms/step - loss: 0.7234 - acc: 0.7276 - val_loss: 1.0648 - val_acc: 0.6469 - lr: 0.0010\n",
      "Epoch 17/40\n",
      "31/31 [==============================] - 1s 22ms/step - loss: 0.6937 - acc: 0.7409 - val_loss: 1.0508 - val_acc: 0.6301 - lr: 0.0010\n",
      "Epoch 18/40\n",
      "31/31 [==============================] - 1s 21ms/step - loss: 0.6532 - acc: 0.7602 - val_loss: 1.1196 - val_acc: 0.6393 - lr: 0.0010\n",
      "Epoch 19/40\n",
      "31/31 [==============================] - 1s 22ms/step - loss: 0.7073 - acc: 0.7459 - val_loss: 1.0653 - val_acc: 0.6286 - lr: 0.0010\n",
      "Epoch 20/40\n",
      "31/31 [==============================] - 1s 21ms/step - loss: 0.6371 - acc: 0.7749 - val_loss: 1.0587 - val_acc: 0.6393 - lr: 0.0010\n",
      "Epoch 21/40\n",
      "31/31 [==============================] - 1s 22ms/step - loss: 0.5957 - acc: 0.7840 - val_loss: 1.1569 - val_acc: 0.6484 - lr: 0.0010\n",
      "Epoch 22/40\n",
      "31/31 [==============================] - 1s 21ms/step - loss: 0.5601 - acc: 0.7907 - val_loss: 1.1911 - val_acc: 0.6484 - lr: 0.0010\n",
      "Epoch 23/40\n",
      "31/31 [==============================] - 1s 22ms/step - loss: 0.5474 - acc: 0.8095 - val_loss: 1.0279 - val_acc: 0.6651 - lr: 0.0010\n",
      "Epoch 24/40\n",
      "31/31 [==============================] - 1s 22ms/step - loss: 0.4822 - acc: 0.8171 - val_loss: 1.0780 - val_acc: 0.6697 - lr: 0.0010\n",
      "Epoch 25/40\n",
      "31/31 [==============================] - 1s 23ms/step - loss: 0.4781 - acc: 0.8349 - val_loss: 1.3046 - val_acc: 0.6393 - lr: 0.0010\n",
      "Epoch 26/40\n",
      "31/31 [==============================] - 1s 23ms/step - loss: 0.5359 - acc: 0.8049 - val_loss: 1.1251 - val_acc: 0.6667 - lr: 0.0010\n",
      "Epoch 27/40\n",
      "31/31 [==============================] - 1s 24ms/step - loss: 0.4153 - acc: 0.8394 - val_loss: 1.3435 - val_acc: 0.6606 - lr: 0.0010\n",
      "Epoch 28/40\n",
      "31/31 [==============================] - 1s 24ms/step - loss: 0.3954 - acc: 0.8674 - val_loss: 1.4240 - val_acc: 0.6743 - lr: 0.0010\n",
      "Epoch 29/40\n",
      "31/31 [==============================] - 1s 23ms/step - loss: 0.4874 - acc: 0.8257 - val_loss: 1.3614 - val_acc: 0.6317 - lr: 0.0010\n",
      "Epoch 30/40\n",
      "31/31 [==============================] - 1s 24ms/step - loss: 0.3904 - acc: 0.8592 - val_loss: 1.4624 - val_acc: 0.6758 - lr: 0.0010\n",
      "Epoch 31/40\n",
      "31/31 [==============================] - 1s 24ms/step - loss: 0.3815 - acc: 0.8608 - val_loss: 1.4095 - val_acc: 0.6423 - lr: 0.0010\n",
      "Epoch 32/40\n",
      "31/31 [==============================] - 1s 24ms/step - loss: 0.3525 - acc: 0.8714 - val_loss: 1.5052 - val_acc: 0.6636 - lr: 0.0010\n",
      "Epoch 33/40\n",
      "31/31 [==============================] - 1s 24ms/step - loss: 0.3592 - acc: 0.8831 - val_loss: 1.5963 - val_acc: 0.6621 - lr: 0.0010\n",
      "Epoch 34/40\n",
      "31/31 [==============================] - 1s 24ms/step - loss: 0.3786 - acc: 0.8603 - val_loss: 1.3655 - val_acc: 0.6591 - lr: 0.0010\n",
      "Epoch 35/40\n",
      "31/31 [==============================] - 1s 22ms/step - loss: 0.2926 - acc: 0.8958 - val_loss: 1.3523 - val_acc: 0.6621 - lr: 4.0000e-04\n",
      "Epoch 36/40\n",
      "31/31 [==============================] - 1s 22ms/step - loss: 0.2084 - acc: 0.9263 - val_loss: 1.5994 - val_acc: 0.6514 - lr: 4.0000e-04\n",
      "Epoch 37/40\n",
      "31/31 [==============================] - 1s 23ms/step - loss: 0.1750 - acc: 0.9319 - val_loss: 1.8015 - val_acc: 0.6743 - lr: 4.0000e-04\n",
      "Epoch 38/40\n",
      "31/31 [==============================] - 1s 22ms/step - loss: 0.1686 - acc: 0.9385 - val_loss: 1.8912 - val_acc: 0.6591 - lr: 4.0000e-04\n",
      "Epoch 39/40\n",
      "31/31 [==============================] - 1s 23ms/step - loss: 0.1551 - acc: 0.9421 - val_loss: 2.0388 - val_acc: 0.6606 - lr: 4.0000e-04\n",
      "Epoch 40/40\n",
      "31/31 [==============================] - 1s 23ms/step - loss: 0.1738 - acc: 0.9345 - val_loss: 2.1733 - val_acc: 0.6575 - lr: 4.0000e-04\n"
     ]
    }
   ],
   "source": [
    "from keras.callbacks import ReduceLROnPlateau, EarlyStopping\n",
    "rlrp = ReduceLROnPlateau(monitor='loss', factor=0.4, verbose=0, patience=2, min_lr=0.000001)\n",
    "# earlys = EarlyStopping(monitor='loss', patience=3)\n",
    "history=model.fit(X_train, y_train, batch_size=64, epochs=40, validation_data=(X_val, y_val), callbacks=[rlrp])"
   ]
  },
  {
   "cell_type": "markdown",
   "metadata": {
    "id": "tkobV-19UD_W"
   },
   "source": [
    "# Model evaluation"
   ]
  },
  {
   "cell_type": "code",
   "execution_count": 15,
   "metadata": {
    "colab": {
     "base_uri": "https://localhost:8080/",
     "height": 425
    },
    "id": "0nlY5PsrsuBT",
    "outputId": "335ec3fd-5621-4097-a0b3-579b82897228",
    "scrolled": true
   },
   "outputs": [
    {
     "name": "stdout",
     "output_type": "stream",
     "text": [
      "28/28 [==============================] - 0s 4ms/step - loss: 2.1482 - acc: 0.6754\n",
      "Accuracy of our model on test data :  67.5428569316864 %\n"
     ]
    },
    {
     "data": {
      "image/png": "[encoded data removed]",
      "text/plain": [
       "<Figure size 2000x600 with 2 Axes>"
      ]
     },
     "metadata": {},
     "output_type": "display_data"
    }
   ],
   "source": [
    "print(\"Accuracy of our model on test data : \" , model.evaluate(X_test,y_test)[1]*100 , \"%\")\n",
    "epochs = [i for i in range(40)]\n",
    "fig , ax = plt.subplots(1,2)\n",
    "train_acc = history.history['acc']\n",
    "train_loss = history.history['loss']\n",
    "test_acc = history.history['val_acc']\n",
    "test_loss = history.history['val_loss']\n",
    "\n",
    "fig.set_size_inches(20,6)\n",
    "ax[0].plot(epochs , train_loss , label = 'Training Loss')\n",
    "ax[0].plot(epochs , test_loss , label = 'Testing Loss')\n",
    "ax[0].set_title('Training & Testing Loss')\n",
    "ax[0].legend()\n",
    "ax[0].set_xlabel(\"Epochs\")\n",
    "\n",
    "ax[1].plot(epochs , train_acc , label = 'Training Accuracy')\n",
    "ax[1].plot(epochs , test_acc , label = 'Testing Accuracy')\n",
    "ax[1].set_title('Training & Testing Accuracy')\n",
    "ax[1].legend()\n",
    "ax[1].set_xlabel(\"Epochs\")\n",
    "plt.show()"
   ]
  },
  {
   "cell_type": "code",
   "execution_count": 16,
   "metadata": {
    "id": "yZoS8sveyAAL"
   },
   "outputs": [
    {
     "name": "stdout",
     "output_type": "stream",
     "text": [
      "28/28 [==============================] - 0s 4ms/step\n"
     ]
    }
   ],
   "source": [
    "# predicting on test data.\n",
    "pred_test = model.predict(X_test)\n",
    "y_pred = encoder.inverse_transform(pred_test)\n",
    "\n",
    "y_test = encoder.inverse_transform(y_test)"
   ]
  },
  {
   "cell_type": "code",
   "execution_count": 17,
   "metadata": {
    "colab": {
     "base_uri": "https://localhost:8080/",
     "height": 363
    },
    "id": "cMBLD8zsyB_X",
    "outputId": "83666704-fc6f-40bb-8034-723d8e3650ba"
   },
   "outputs": [
    {
     "data": {
      "text/html": [
       "<div>\n",
       "<style scoped>\n",
       "    .dataframe tbody tr th:only-of-type {\n",
       "        vertical-align: middle;\n",
       "    }\n",
       "\n",
       "    .dataframe tbody tr th {\n",
       "        vertical-align: top;\n",
       "    }\n",
       "\n",
       "    .dataframe thead th {\n",
       "        text-align: right;\n",
       "    }\n",
       "</style>\n",
       "<table border=\"1\" class=\"dataframe\">\n",
       "  <thead>\n",
       "    <tr style=\"text-align: right;\">\n",
       "      <th></th>\n",
       "      <th>Predicted Labels</th>\n",
       "      <th>Actual Labels</th>\n",
       "    </tr>\n",
       "  </thead>\n",
       "  <tbody>\n",
       "    <tr>\n",
       "      <th>0</th>\n",
       "      <td>angry</td>\n",
       "      <td>happy</td>\n",
       "    </tr>\n",
       "    <tr>\n",
       "      <th>1</th>\n",
       "      <td>neutral</td>\n",
       "      <td>fear</td>\n",
       "    </tr>\n",
       "    <tr>\n",
       "      <th>2</th>\n",
       "      <td>sad</td>\n",
       "      <td>sad</td>\n",
       "    </tr>\n",
       "    <tr>\n",
       "      <th>3</th>\n",
       "      <td>angry</td>\n",
       "      <td>angry</td>\n",
       "    </tr>\n",
       "    <tr>\n",
       "      <th>4</th>\n",
       "      <td>sad</td>\n",
       "      <td>sad</td>\n",
       "    </tr>\n",
       "    <tr>\n",
       "      <th>5</th>\n",
       "      <td>happy</td>\n",
       "      <td>happy</td>\n",
       "    </tr>\n",
       "    <tr>\n",
       "      <th>6</th>\n",
       "      <td>fear</td>\n",
       "      <td>fear</td>\n",
       "    </tr>\n",
       "    <tr>\n",
       "      <th>7</th>\n",
       "      <td>neutral</td>\n",
       "      <td>neutral</td>\n",
       "    </tr>\n",
       "    <tr>\n",
       "      <th>8</th>\n",
       "      <td>fear</td>\n",
       "      <td>angry</td>\n",
       "    </tr>\n",
       "    <tr>\n",
       "      <th>9</th>\n",
       "      <td>fear</td>\n",
       "      <td>fear</td>\n",
       "    </tr>\n",
       "    <tr>\n",
       "      <th>10</th>\n",
       "      <td>angry</td>\n",
       "      <td>angry</td>\n",
       "    </tr>\n",
       "    <tr>\n",
       "      <th>11</th>\n",
       "      <td>happy</td>\n",
       "      <td>happy</td>\n",
       "    </tr>\n",
       "    <tr>\n",
       "      <th>12</th>\n",
       "      <td>neutral</td>\n",
       "      <td>neutral</td>\n",
       "    </tr>\n",
       "    <tr>\n",
       "      <th>13</th>\n",
       "      <td>fear</td>\n",
       "      <td>fear</td>\n",
       "    </tr>\n",
       "    <tr>\n",
       "      <th>14</th>\n",
       "      <td>angry</td>\n",
       "      <td>angry</td>\n",
       "    </tr>\n",
       "    <tr>\n",
       "      <th>15</th>\n",
       "      <td>sad</td>\n",
       "      <td>sad</td>\n",
       "    </tr>\n",
       "    <tr>\n",
       "      <th>16</th>\n",
       "      <td>sad</td>\n",
       "      <td>sad</td>\n",
       "    </tr>\n",
       "    <tr>\n",
       "      <th>17</th>\n",
       "      <td>happy</td>\n",
       "      <td>angry</td>\n",
       "    </tr>\n",
       "    <tr>\n",
       "      <th>18</th>\n",
       "      <td>fear</td>\n",
       "      <td>fear</td>\n",
       "    </tr>\n",
       "    <tr>\n",
       "      <th>19</th>\n",
       "      <td>fear</td>\n",
       "      <td>fear</td>\n",
       "    </tr>\n",
       "  </tbody>\n",
       "</table>\n",
       "</div>"
      ],
      "text/plain": [
       "   Predicted Labels Actual Labels\n",
       "0             angry         happy\n",
       "1           neutral          fear\n",
       "2               sad           sad\n",
       "3             angry         angry\n",
       "4               sad           sad\n",
       "5             happy         happy\n",
       "6              fear          fear\n",
       "7           neutral       neutral\n",
       "8              fear         angry\n",
       "9              fear          fear\n",
       "10            angry         angry\n",
       "11            happy         happy\n",
       "12          neutral       neutral\n",
       "13             fear          fear\n",
       "14            angry         angry\n",
       "15              sad           sad\n",
       "16              sad           sad\n",
       "17            happy         angry\n",
       "18             fear          fear\n",
       "19             fear          fear"
      ]
     },
     "execution_count": 17,
     "metadata": {},
     "output_type": "execute_result"
    }
   ],
   "source": [
    "df = pd.DataFrame(columns=['Predicted Labels', 'Actual Labels'])\n",
    "df['Predicted Labels'] = y_pred.flatten()\n",
    "df['Actual Labels'] = y_test.flatten()\n",
    "\n",
    "df.head(20)"
   ]
  },
  {
   "cell_type": "code",
   "execution_count": 18,
   "metadata": {
    "colab": {
     "base_uri": "https://localhost:8080/",
     "height": 630
    },
    "id": "mihmyB69yDPc",
    "outputId": "85173873-6d9e-4085-ee99-8a27d142b4dc"
   },
   "outputs": [
    {
     "data": {
      "image/png": "[encoded data removed]",
      "text/plain": [
       "<Figure size 1200x1000 with 2 Axes>"
      ]
     },
     "metadata": {},
     "output_type": "display_data"
    }
   ],
   "source": [
    "cm = confusion_matrix(y_test, y_pred)\n",
    "plt.figure(figsize = (12, 10))\n",
    "cm = pd.DataFrame(cm , index = [i for i in encoder.categories_] , columns = [i for i in encoder.categories_])\n",
    "sb.heatmap(cm, linecolor='white', cmap='Blues', linewidth=1, annot=True, fmt='')\n",
    "plt.title('Confusion Matrix', size=20)\n",
    "plt.xlabel('Predicted Labels', size=14)\n",
    "plt.ylabel('Actual Labels', size=14)\n",
    "plt.show()"
   ]
  },
  {
   "cell_type": "code",
   "execution_count": 19,
   "metadata": {
    "colab": {
     "base_uri": "https://localhost:8080/"
    },
    "id": "d5N_du70yFI3",
    "outputId": "9548f5fc-5c2c-4cd6-fec7-8e142752a650"
   },
   "outputs": [
    {
     "name": "stdout",
     "output_type": "stream",
     "text": [
      "              precision    recall  f1-score   support\n",
      "\n",
      "       angry       0.71      0.73      0.72       175\n",
      "        fear       0.65      0.71      0.68       175\n",
      "       happy       0.69      0.67      0.68       175\n",
      "     neutral       0.64      0.60      0.62       175\n",
      "         sad       0.69      0.66      0.67       175\n",
      "\n",
      "    accuracy                           0.68       875\n",
      "   macro avg       0.68      0.68      0.67       875\n",
      "weighted avg       0.68      0.68      0.67       875\n",
      "\n"
     ]
    }
   ],
   "source": [
    "print(classification_report(y_test, y_pred))"
   ]
  },
  {
   "cell_type": "markdown",
   "metadata": {
    "id": "hQ5tBl_iyILg"
   },
   "source": [
    "# Save model"
   ]
  },
  {
   "cell_type": "code",
   "execution_count": 20,
   "metadata": {
    "colab": {
     "base_uri": "https://localhost:8080/"
    },
    "id": "fHeVa8JFx7f4",
    "outputId": "566739cb-5d31-4ba4-bdbe-70abe67af63d"
   },
   "outputs": [],
   "source": [
    "# Export model\n",
    "model.save('./chris_nlp_model.h5')\n",
    "saved_model = keras.models.load_model('./nlp_model.h5')"
   ]
  }
 ],
 "metadata": {
  "accelerator": "GPU",
  "colab": {
   "collapsed_sections": [],
   "name": "NLP_chris.ipynb",
   "provenance": [],
   "toc_visible": true
  },
  "kernelspec": {
   "display_name": "mlvenv",
   "language": "python",
   "name": "mlvenv"
  },
  "language_info": {
   "codemirror_mode": {
    "name": "ipython",
    "version": 3
   },
   "file_extension": ".py",
   "mimetype": "text/x-python",
   "name": "python",
   "nbconvert_exporter": "python",
   "pygments_lexer": "ipython3",
   "version": "3.9.15"
  }
 },
 "nbformat": 4,
 "nbformat_minor": 1
}
